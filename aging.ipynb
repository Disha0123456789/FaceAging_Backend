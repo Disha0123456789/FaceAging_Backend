{
  "cells": [
    {
      "cell_type": "markdown",
      "metadata": {
        "id": "8UPyx2FOi0bW"
      },
      "source": [
        "# Face Re-Aging Demos with Gradio\n",
        "To try out the Gradio Demos using Google Colab, run the cells below.\n",
        "Be sure to select a runtime with GPU (e.g. `Runtime > Change Runtime Type > T4 (GPU)`) to make the model run fast.\n",
        "\n",
        "You can choose to either run the regular inference demo or the video demo. The demo will open in a new tab."
      ]
    },
    {
      "cell_type": "markdown",
      "metadata": {
        "id": "V63jr7pmWMKX"
      },
      "source": [
        "## Downloading files and model"
      ]
    },
    {
      "cell_type": "code",
      "execution_count": 1,
      "metadata": {
        "colab": {
          "base_uri": "https://localhost:8080/"
        },
        "id": "Fl-OWpFqVLad",
        "outputId": "5be43084-fe9e-47d5-fd13-1fb642c28ace"
      },
      "outputs": [
        {
          "name": "stderr",
          "output_type": "stream",
          "text": [
            "Cloning into 'face_reaging'...\n"
          ]
        }
      ],
      "source": [
        "!git clone https://github.com/timroelofs123/face_reaging"
      ]
    },
    {
      "cell_type": "code",
      "execution_count": 2,
      "metadata": {
        "colab": {
          "base_uri": "https://localhost:8080/"
        },
        "id": "ljqHF5EJWGoO",
        "outputId": "603f920c-a8e4-443c-d75f-925d7eb3c981"
      },
      "outputs": [
        {
          "name": "stderr",
          "output_type": "stream",
          "text": [
            "Cloning into 'face_re-aging'...\n",
            "Updating files: 100% (4/4)\n",
            "Updating files: 100% (4/4), done.\n",
            "Filtering content: 100% (2/2)\n",
            "Filtering content: 100% (2/2), 121.06 MiB | 7.07 MiB/s\n",
            "Filtering content: 100% (2/2), 121.06 MiB | 5.57 MiB/s, done.\n"
          ]
        }
      ],
      "source": [
        "!git clone https://huggingface.co/timroelofs123/face_re-aging"
      ]
    },
    {
      "cell_type": "code",
      "execution_count": 3,
      "metadata": {
        "colab": {
          "base_uri": "https://localhost:8080/"
        },
        "id": "Vawn2UimWajy",
        "outputId": "38d6164b-008a-4230-dbb1-fd54e4846a62"
      },
      "outputs": [
        {
          "name": "stderr",
          "output_type": "stream",
          "text": [
            "UsageError: Line magic function `%mv` not found.\n"
          ]
        }
      ],
      "source": [
        "%mv face_re-aging/best_unet_model.pth face_reaging/\n",
        "%cd face_reaging/"
      ]
    },
    {
      "cell_type": "markdown",
      "metadata": {
        "id": "OezK6WkeWz2G"
      },
      "source": [
        "## Installing requirements"
      ]
    },
    {
      "cell_type": "code",
      "execution_count": 4,
      "metadata": {
        "colab": {
          "base_uri": "https://localhost:8080/"
        },
        "id": "U29EGu-tW69J",
        "outputId": "3fa4eac0-dbd5-41b2-99a6-e5f6b0ff99de"
      },
      "outputs": [
        {
          "name": "stdout",
          "output_type": "stream",
          "text": [
            "Note: you may need to restart the kernel to use updated packages.\n"
          ]
        },
        {
          "name": "stderr",
          "output_type": "stream",
          "text": [
            "ERROR: pip's dependency resolver does not currently take into account all the packages that are installed. This behaviour is the source of the following dependency conflicts.\n",
            "googletrans 3.0.0 requires httpx==0.13.3, but you have httpx 0.27.0 which is incompatible.\n"
          ]
        }
      ],
      "source": [
        "%pip install gradio face_recognition antialiased_cnns kaleido av --quiet"
      ]
    },
    {
      "cell_type": "markdown",
      "metadata": {
        "id": "W1uWzCNyXafL"
      },
      "source": [
        "## Running demo"
      ]
    },
    {
      "cell_type": "markdown",
      "metadata": {
        "id": "BTQxJNr2ipm_"
      },
      "source": [
        "Re-age your photo or video with the three demos."
      ]
    },
    {
      "cell_type": "code",
      "execution_count": 13,
      "metadata": {
        "id": "P-ZLGAp82ewt"
      },
      "outputs": [
        {
          "ename": "FileNotFoundError",
          "evalue": "[Errno 2] No such file or directory: 'assets/mask1024.jpg'",
          "output_type": "error",
          "traceback": [
            "\u001b[1;31m---------------------------------------------------------------------------\u001b[0m",
            "\u001b[1;31mFileNotFoundError\u001b[0m                         Traceback (most recent call last)",
            "Cell \u001b[1;32mIn[13], line 14\u001b[0m\n\u001b[0;32m     12\u001b[0m \u001b[39mimport\u001b[39;00m \u001b[39mtorch\u001b[39;00m\n\u001b[0;32m     13\u001b[0m \u001b[39mfrom\u001b[39;00m \u001b[39mmodel\u001b[39;00m\u001b[39m.\u001b[39;00m\u001b[39mmodels\u001b[39;00m \u001b[39mimport\u001b[39;00m UNet\n\u001b[1;32m---> 14\u001b[0m \u001b[39mfrom\u001b[39;00m \u001b[39mscripts\u001b[39;00m\u001b[39m.\u001b[39;00m\u001b[39mtest_functions\u001b[39;00m \u001b[39mimport\u001b[39;00m process_image, process_video\n",
            "File \u001b[1;32mc:\\Users\\shaik\\Downloads\\Aging\\Aging\\face_reaging\\scripts\\test_functions.py:14\u001b[0m\n\u001b[0;32m     11\u001b[0m \u001b[39mfrom\u001b[39;00m \u001b[39mffmpy\u001b[39;00m \u001b[39mimport\u001b[39;00m FFmpeg, FFprobe\n\u001b[0;32m     12\u001b[0m \u001b[39mfrom\u001b[39;00m \u001b[39mPIL\u001b[39;00m \u001b[39mimport\u001b[39;00m Image\n\u001b[1;32m---> 14\u001b[0m mask_file \u001b[39m=\u001b[39m torch\u001b[39m.\u001b[39mfrom_numpy(np\u001b[39m.\u001b[39marray(Image\u001b[39m.\u001b[39;49mopen(\u001b[39m'\u001b[39;49m\u001b[39massets/mask1024.jpg\u001b[39;49m\u001b[39m'\u001b[39;49m)\u001b[39m.\u001b[39mconvert(\u001b[39m'\u001b[39m\u001b[39mL\u001b[39m\u001b[39m'\u001b[39m))) \u001b[39m/\u001b[39m \u001b[39m255\u001b[39m\n\u001b[0;32m     15\u001b[0m small_mask_file \u001b[39m=\u001b[39m torch\u001b[39m.\u001b[39mfrom_numpy(np\u001b[39m.\u001b[39marray(Image\u001b[39m.\u001b[39mopen(\u001b[39m'\u001b[39m\u001b[39massets/mask512.jpg\u001b[39m\u001b[39m'\u001b[39m)\u001b[39m.\u001b[39mconvert(\u001b[39m'\u001b[39m\u001b[39mL\u001b[39m\u001b[39m'\u001b[39m))) \u001b[39m/\u001b[39m \u001b[39m255\u001b[39m\n\u001b[0;32m     17\u001b[0m \u001b[39mdef\u001b[39;00m \u001b[39msliding_window_tensor\u001b[39m(input_tensor, window_size, stride, your_model, mask\u001b[39m=\u001b[39mmask_file, small_mask\u001b[39m=\u001b[39msmall_mask_file):\n",
            "File \u001b[1;32mc:\\app\\python\\lib\\site-packages\\PIL\\Image.py:3236\u001b[0m, in \u001b[0;36mopen\u001b[1;34m(fp, mode, formats)\u001b[0m\n\u001b[0;32m   3233\u001b[0m     filename \u001b[39m=\u001b[39m fp\n\u001b[0;32m   3235\u001b[0m \u001b[39mif\u001b[39;00m filename:\n\u001b[1;32m-> 3236\u001b[0m     fp \u001b[39m=\u001b[39m builtins\u001b[39m.\u001b[39;49mopen(filename, \u001b[39m\"\u001b[39;49m\u001b[39mrb\u001b[39;49m\u001b[39m\"\u001b[39;49m)\n\u001b[0;32m   3237\u001b[0m     exclusive_fp \u001b[39m=\u001b[39m \u001b[39mTrue\u001b[39;00m\n\u001b[0;32m   3239\u001b[0m \u001b[39mtry\u001b[39;00m:\n",
            "\u001b[1;31mFileNotFoundError\u001b[0m: [Errno 2] No such file or directory: 'assets/mask1024.jpg'"
          ]
        }
      ],
      "source": [
        "import sys\n",
        "import os\n",
        "\n",
        "# Get the absolute path of the current working directory\n",
        "current_dir = os.path.abspath('.')\n",
        "# Add the 'face_reaging' directory to the system path\n",
        "face_reaging_dir = os.path.join(current_dir, 'face_reaging')\n",
        "if face_reaging_dir not in sys.path:\n",
        "    sys.path.append(face_reaging_dir)\n",
        "\n",
        "import gradio as gr\n",
        "import torch\n",
        "from model.models import UNet\n",
        "from scripts.test_functions import process_image, process_video\n"
      ]
    },
    {
      "cell_type": "code",
      "execution_count": 18,
      "metadata": {
        "id": "izknf3I1XcyU"
      },
      "outputs": [
        {
          "name": "stdout",
          "output_type": "stream",
          "text": [
            "c:\\Users\\shaik\\Downloads\\Aging\\Aging\n"
          ]
        }
      ],
      "source": [
        "# default settings\n",
        "window_size = 512\n",
        "stride = 256\n",
        "steps = 18\n",
        "frame_count = 100\n",
        "model_path = './face_re-aging/best_unet_model.pth'\n",
        "import os\n",
        "\n",
        "# Print the current working directory\n",
        "print(os.getcwd())\n"
      ]
    },
    {
      "cell_type": "code",
      "execution_count": 19,
      "metadata": {
        "id": "hHq3rGOVr0gQ"
      },
      "outputs": [],
      "source": [
        "# The code from this block equivalent to the \"run\" function in scripts.gradio_demo\n",
        "\n",
        "device = torch.device(\"cuda:0\" if torch.cuda.is_available() else \"cpu\")\n",
        "unet_model = UNet().to(device)\n",
        "unet_model.load_state_dict(torch.load(model_path, map_location=device))\n",
        "unet_model.eval()\n",
        "\n",
        "def block_img(image, source_age, target_age):\n",
        "    return process_image(unet_model, image, video=False, source_age=source_age,\n",
        "                          target_age=target_age, window_size=window_size, stride=stride)\n",
        "\n",
        "def block_img_vid(image, source_age):\n",
        "    return process_image(unet_model, image, video=True, source_age=source_age,\n",
        "                          target_age=0, window_size=window_size, stride=stride, steps=steps)\n",
        "\n",
        "def block_vid(video_path, source_age, target_age):\n",
        "    return process_video(unet_model, video_path, source_age, target_age,\n",
        "                          window_size=window_size, stride=stride, frame_count=frame_count)\n",
        "\n",
        "demo_img = gr.Interface(\n",
        "    fn=block_img,\n",
        "    inputs=[\n",
        "        gr.Image(type=\"pil\"),\n",
        "        gr.Slider(10, 90, value=20, step=1, label=\"Current age\", info=\"Choose your current age\"),\n",
        "        gr.Slider(10, 90, value=80, step=1, label=\"Target age\", info=\"Choose the age you want to become\")\n",
        "    ],\n",
        "    outputs=\"image\",\n",
        "    examples=[\n",
        "        ['assets/gradio_example_images/1.png', 20, 80],\n",
        "        ['assets/gradio_example_images/2.png', 75, 40],\n",
        "        ['assets/gradio_example_images/3.png', 30, 70],\n",
        "        ['assets/gradio_example_images/4.png', 22, 60],\n",
        "        ['assets/gradio_example_images/5.png', 28, 75],\n",
        "        ['assets/gradio_example_images/6.png', 35, 15]\n",
        "    ],\n",
        "    description=\"Input an image of a person and age them from the source age to the target age.\"\n",
        ")\n",
        "\n",
        "demo_img_vid = gr.Interface(\n",
        "    fn=block_img_vid,\n",
        "    inputs=[\n",
        "        gr.Image(type=\"pil\"),\n",
        "        gr.Slider(10, 90, value=20, step=1, label=\"Current age\", info=\"Choose your current age\"),\n",
        "    ],\n",
        "    outputs=gr.Video(),\n",
        "    examples=[\n",
        "        ['assets/gradio_example_images/1.png', 20],\n",
        "        ['assets/gradio_example_images/2.png', 75],\n",
        "        ['assets/gradio_example_images/3.png', 30],\n",
        "        ['assets/gradio_example_images/4.png', 22],\n",
        "        ['assets/gradio_example_images/5.png', 28],\n",
        "        ['assets/gradio_example_images/6.png', 35]\n",
        "    ],\n",
        "    description=\"Input an image of a person and a video will be returned of the person at different ages.\"\n",
        ")\n",
        "\n",
        "demo_vid = gr.Interface(\n",
        "    fn=block_vid,\n",
        "    inputs=[\n",
        "        gr.Video(),\n",
        "        gr.Slider(10, 90, value=20, step=1, label=\"Current age\", info=\"Choose your current age\"),\n",
        "        gr.Slider(10, 90, value=80, step=1, label=\"Target age\", info=\"Choose the age you want to become\")\n",
        "    ],\n",
        "    outputs=gr.Video(),\n",
        "    examples=[\n",
        "        ['assets/gradio_example_images/orig.mp4', 35, 60],\n",
        "    ],\n",
        "    description=\"Input a video of a person, and it will be aged frame-by-frame.\"\n",
        ")\n",
        "\n",
        "demo = gr.TabbedInterface([demo_img, demo_img_vid, demo_vid],\n",
        "                          tab_names=['Image inference demo', 'Image animation demo', 'Video inference demo'],\n",
        "                          title=\"Face Re-Aging Demo\",\n",
        "                          )"
      ]
    },
    {
      "cell_type": "code",
      "execution_count": 20,
      "metadata": {
        "id": "6q2f1hVB02t-"
      },
      "outputs": [
        {
          "name": "stdout",
          "output_type": "stream",
          "text": [
            "Running on local URL:  http://127.0.0.1:7860\n",
            "\n",
            "To create a public link, set `share=True` in `launch()`.\n"
          ]
        },
        {
          "data": {
            "text/html": [
              "<div><iframe src=\"http://127.0.0.1:7860/\" width=\"100%\" height=\"500\" allow=\"autoplay; camera; microphone; clipboard-read; clipboard-write;\" frameborder=\"0\" allowfullscreen></iframe></div>"
            ],
            "text/plain": [
              "<IPython.core.display.HTML object>"
            ]
          },
          "metadata": {},
          "output_type": "display_data"
        },
        {
          "data": {
            "text/plain": []
          },
          "execution_count": 20,
          "metadata": {},
          "output_type": "execute_result"
        },
        {
          "name": "stderr",
          "output_type": "stream",
          "text": [
            "Traceback (most recent call last):\n",
            "  File \"c:\\app\\python\\lib\\site-packages\\gradio\\queueing.py\", line 521, in process_events\n",
            "    response = await route_utils.call_process_api(\n",
            "  File \"c:\\app\\python\\lib\\site-packages\\gradio\\route_utils.py\", line 276, in call_process_api\n",
            "    output = await app.get_blocks().process_api(\n",
            "  File \"c:\\app\\python\\lib\\site-packages\\gradio\\blocks.py\", line 1945, in process_api\n",
            "    result = await self.call_function(\n",
            "  File \"c:\\app\\python\\lib\\site-packages\\gradio\\blocks.py\", line 1513, in call_function\n",
            "    prediction = await anyio.to_thread.run_sync(\n",
            "  File \"c:\\app\\python\\lib\\site-packages\\anyio\\to_thread.py\", line 49, in run_sync\n",
            "    return await get_async_backend().run_sync_in_worker_thread(\n",
            "  File \"c:\\app\\python\\lib\\site-packages\\anyio\\_backends\\_asyncio.py\", line 2103, in run_sync_in_worker_thread\n",
            "    return await future\n",
            "  File \"c:\\app\\python\\lib\\site-packages\\anyio\\_backends\\_asyncio.py\", line 823, in run\n",
            "    result = context.run(func, *args)\n",
            "  File \"c:\\app\\python\\lib\\site-packages\\gradio\\utils.py\", line 831, in wrapper\n",
            "    response = f(*args, **kwargs)\n",
            "  File \"C:\\Users\\shaik\\AppData\\Local\\Temp\\ipykernel_8832\\3670545991.py\", line 9, in block_img\n",
            "    return process_image(unet_model, image, video=False, source_age=source_age,\n",
            "NameError: name 'process_image' is not defined\n",
            "Traceback (most recent call last):\n",
            "  File \"c:\\app\\python\\lib\\site-packages\\gradio\\queueing.py\", line 521, in process_events\n",
            "    response = await route_utils.call_process_api(\n",
            "  File \"c:\\app\\python\\lib\\site-packages\\gradio\\route_utils.py\", line 276, in call_process_api\n",
            "    output = await app.get_blocks().process_api(\n",
            "  File \"c:\\app\\python\\lib\\site-packages\\gradio\\blocks.py\", line 1945, in process_api\n",
            "    result = await self.call_function(\n",
            "  File \"c:\\app\\python\\lib\\site-packages\\gradio\\blocks.py\", line 1513, in call_function\n",
            "    prediction = await anyio.to_thread.run_sync(\n",
            "  File \"c:\\app\\python\\lib\\site-packages\\anyio\\to_thread.py\", line 49, in run_sync\n",
            "    return await get_async_backend().run_sync_in_worker_thread(\n",
            "  File \"c:\\app\\python\\lib\\site-packages\\anyio\\_backends\\_asyncio.py\", line 2103, in run_sync_in_worker_thread\n",
            "    return await future\n",
            "  File \"c:\\app\\python\\lib\\site-packages\\anyio\\_backends\\_asyncio.py\", line 823, in run\n",
            "    result = context.run(func, *args)\n",
            "  File \"c:\\app\\python\\lib\\site-packages\\gradio\\utils.py\", line 831, in wrapper\n",
            "    response = f(*args, **kwargs)\n",
            "  File \"C:\\Users\\shaik\\AppData\\Local\\Temp\\ipykernel_8832\\3670545991.py\", line 9, in block_img\n",
            "    return process_image(unet_model, image, video=False, source_age=source_age,\n",
            "NameError: name 'process_image' is not defined\n",
            "Traceback (most recent call last):\n",
            "  File \"c:\\app\\python\\lib\\site-packages\\gradio\\queueing.py\", line 521, in process_events\n",
            "    response = await route_utils.call_process_api(\n",
            "  File \"c:\\app\\python\\lib\\site-packages\\gradio\\route_utils.py\", line 276, in call_process_api\n",
            "    output = await app.get_blocks().process_api(\n",
            "  File \"c:\\app\\python\\lib\\site-packages\\gradio\\blocks.py\", line 1945, in process_api\n",
            "    result = await self.call_function(\n",
            "  File \"c:\\app\\python\\lib\\site-packages\\gradio\\blocks.py\", line 1513, in call_function\n",
            "    prediction = await anyio.to_thread.run_sync(\n",
            "  File \"c:\\app\\python\\lib\\site-packages\\anyio\\to_thread.py\", line 49, in run_sync\n",
            "    return await get_async_backend().run_sync_in_worker_thread(\n",
            "  File \"c:\\app\\python\\lib\\site-packages\\anyio\\_backends\\_asyncio.py\", line 2103, in run_sync_in_worker_thread\n",
            "    return await future\n",
            "  File \"c:\\app\\python\\lib\\site-packages\\anyio\\_backends\\_asyncio.py\", line 823, in run\n",
            "    result = context.run(func, *args)\n",
            "  File \"c:\\app\\python\\lib\\site-packages\\gradio\\utils.py\", line 831, in wrapper\n",
            "    response = f(*args, **kwargs)\n",
            "  File \"C:\\Users\\shaik\\AppData\\Local\\Temp\\ipykernel_8832\\3670545991.py\", line 9, in block_img\n",
            "    return process_image(unet_model, image, video=False, source_age=source_age,\n",
            "NameError: name 'process_image' is not defined\n",
            "Traceback (most recent call last):\n",
            "  File \"c:\\app\\python\\lib\\site-packages\\gradio\\queueing.py\", line 521, in process_events\n",
            "    response = await route_utils.call_process_api(\n",
            "  File \"c:\\app\\python\\lib\\site-packages\\gradio\\route_utils.py\", line 276, in call_process_api\n",
            "    output = await app.get_blocks().process_api(\n",
            "  File \"c:\\app\\python\\lib\\site-packages\\gradio\\blocks.py\", line 1945, in process_api\n",
            "    result = await self.call_function(\n",
            "  File \"c:\\app\\python\\lib\\site-packages\\gradio\\blocks.py\", line 1513, in call_function\n",
            "    prediction = await anyio.to_thread.run_sync(\n",
            "  File \"c:\\app\\python\\lib\\site-packages\\anyio\\to_thread.py\", line 49, in run_sync\n",
            "    return await get_async_backend().run_sync_in_worker_thread(\n",
            "  File \"c:\\app\\python\\lib\\site-packages\\anyio\\_backends\\_asyncio.py\", line 2103, in run_sync_in_worker_thread\n",
            "    return await future\n",
            "  File \"c:\\app\\python\\lib\\site-packages\\anyio\\_backends\\_asyncio.py\", line 823, in run\n",
            "    result = context.run(func, *args)\n",
            "  File \"c:\\app\\python\\lib\\site-packages\\gradio\\utils.py\", line 831, in wrapper\n",
            "    response = f(*args, **kwargs)\n",
            "  File \"C:\\Users\\shaik\\AppData\\Local\\Temp\\ipykernel_8832\\3670545991.py\", line 9, in block_img\n",
            "    return process_image(unet_model, image, video=False, source_age=source_age,\n",
            "NameError: name 'process_image' is not defined\n",
            "Traceback (most recent call last):\n",
            "  File \"c:\\app\\python\\lib\\site-packages\\gradio\\queueing.py\", line 521, in process_events\n",
            "    response = await route_utils.call_process_api(\n",
            "  File \"c:\\app\\python\\lib\\site-packages\\gradio\\route_utils.py\", line 276, in call_process_api\n",
            "    output = await app.get_blocks().process_api(\n",
            "  File \"c:\\app\\python\\lib\\site-packages\\gradio\\blocks.py\", line 1945, in process_api\n",
            "    result = await self.call_function(\n",
            "  File \"c:\\app\\python\\lib\\site-packages\\gradio\\blocks.py\", line 1513, in call_function\n",
            "    prediction = await anyio.to_thread.run_sync(\n",
            "  File \"c:\\app\\python\\lib\\site-packages\\anyio\\to_thread.py\", line 49, in run_sync\n",
            "    return await get_async_backend().run_sync_in_worker_thread(\n",
            "  File \"c:\\app\\python\\lib\\site-packages\\anyio\\_backends\\_asyncio.py\", line 2103, in run_sync_in_worker_thread\n",
            "    return await future\n",
            "  File \"c:\\app\\python\\lib\\site-packages\\anyio\\_backends\\_asyncio.py\", line 823, in run\n",
            "    result = context.run(func, *args)\n",
            "  File \"c:\\app\\python\\lib\\site-packages\\gradio\\utils.py\", line 831, in wrapper\n",
            "    response = f(*args, **kwargs)\n",
            "  File \"C:\\Users\\shaik\\AppData\\Local\\Temp\\ipykernel_8832\\3670545991.py\", line 9, in block_img\n",
            "    return process_image(unet_model, image, video=False, source_age=source_age,\n",
            "NameError: name 'process_image' is not defined\n",
            "Traceback (most recent call last):\n",
            "  File \"c:\\app\\python\\lib\\site-packages\\gradio\\queueing.py\", line 521, in process_events\n",
            "    response = await route_utils.call_process_api(\n",
            "  File \"c:\\app\\python\\lib\\site-packages\\gradio\\route_utils.py\", line 276, in call_process_api\n",
            "    output = await app.get_blocks().process_api(\n",
            "  File \"c:\\app\\python\\lib\\site-packages\\gradio\\blocks.py\", line 1941, in process_api\n",
            "    inputs = await self.preprocess_data(\n",
            "  File \"c:\\app\\python\\lib\\site-packages\\gradio\\blocks.py\", line 1645, in preprocess_data\n",
            "    inputs_cached = await processing_utils.async_move_files_to_cache(\n",
            "  File \"c:\\app\\python\\lib\\site-packages\\gradio\\processing_utils.py\", line 493, in async_move_files_to_cache\n",
            "    return await client_utils.async_traverse(\n",
            "  File \"c:\\app\\python\\lib\\site-packages\\gradio_client\\utils.py\", line 999, in async_traverse\n",
            "    return await func(json_obj)\n",
            "  File \"c:\\app\\python\\lib\\site-packages\\gradio\\processing_utils.py\", line 464, in _move_to_cache\n",
            "    raise ValueError(\n",
            "ValueError: File c:\\Users\\shaik\\Downloads\\Aging\\Aging\\assets\\gradio_example_images\\1.png is not in the upload folder and cannot be accessed.\n",
            "Traceback (most recent call last):\n",
            "  File \"c:\\app\\python\\lib\\site-packages\\gradio\\queueing.py\", line 521, in process_events\n",
            "    response = await route_utils.call_process_api(\n",
            "  File \"c:\\app\\python\\lib\\site-packages\\gradio\\route_utils.py\", line 276, in call_process_api\n",
            "    output = await app.get_blocks().process_api(\n",
            "  File \"c:\\app\\python\\lib\\site-packages\\gradio\\blocks.py\", line 1945, in process_api\n",
            "    result = await self.call_function(\n",
            "  File \"c:\\app\\python\\lib\\site-packages\\gradio\\blocks.py\", line 1513, in call_function\n",
            "    prediction = await anyio.to_thread.run_sync(\n",
            "  File \"c:\\app\\python\\lib\\site-packages\\anyio\\to_thread.py\", line 49, in run_sync\n",
            "    return await get_async_backend().run_sync_in_worker_thread(\n",
            "  File \"c:\\app\\python\\lib\\site-packages\\anyio\\_backends\\_asyncio.py\", line 2103, in run_sync_in_worker_thread\n",
            "    return await future\n",
            "  File \"c:\\app\\python\\lib\\site-packages\\anyio\\_backends\\_asyncio.py\", line 823, in run\n",
            "    result = context.run(func, *args)\n",
            "  File \"c:\\app\\python\\lib\\site-packages\\gradio\\utils.py\", line 831, in wrapper\n",
            "    response = f(*args, **kwargs)\n",
            "  File \"C:\\Users\\shaik\\AppData\\Local\\Temp\\ipykernel_8832\\3670545991.py\", line 9, in block_img\n",
            "    return process_image(unet_model, image, video=False, source_age=source_age,\n",
            "NameError: name 'process_image' is not defined\n",
            "Traceback (most recent call last):\n",
            "  File \"c:\\app\\python\\lib\\site-packages\\gradio\\queueing.py\", line 521, in process_events\n",
            "    response = await route_utils.call_process_api(\n",
            "  File \"c:\\app\\python\\lib\\site-packages\\gradio\\route_utils.py\", line 276, in call_process_api\n",
            "    output = await app.get_blocks().process_api(\n",
            "  File \"c:\\app\\python\\lib\\site-packages\\gradio\\blocks.py\", line 1945, in process_api\n",
            "    result = await self.call_function(\n",
            "  File \"c:\\app\\python\\lib\\site-packages\\gradio\\blocks.py\", line 1513, in call_function\n",
            "    prediction = await anyio.to_thread.run_sync(\n",
            "  File \"c:\\app\\python\\lib\\site-packages\\anyio\\to_thread.py\", line 49, in run_sync\n",
            "    return await get_async_backend().run_sync_in_worker_thread(\n",
            "  File \"c:\\app\\python\\lib\\site-packages\\anyio\\_backends\\_asyncio.py\", line 2103, in run_sync_in_worker_thread\n",
            "    return await future\n",
            "  File \"c:\\app\\python\\lib\\site-packages\\anyio\\_backends\\_asyncio.py\", line 823, in run\n",
            "    result = context.run(func, *args)\n",
            "  File \"c:\\app\\python\\lib\\site-packages\\gradio\\utils.py\", line 831, in wrapper\n",
            "    response = f(*args, **kwargs)\n",
            "  File \"C:\\Users\\shaik\\AppData\\Local\\Temp\\ipykernel_8832\\3670545991.py\", line 9, in block_img\n",
            "    return process_image(unet_model, image, video=False, source_age=source_age,\n",
            "NameError: name 'process_image' is not defined\n",
            "Traceback (most recent call last):\n",
            "  File \"c:\\app\\python\\lib\\site-packages\\gradio\\queueing.py\", line 521, in process_events\n",
            "    response = await route_utils.call_process_api(\n",
            "  File \"c:\\app\\python\\lib\\site-packages\\gradio\\route_utils.py\", line 276, in call_process_api\n",
            "    output = await app.get_blocks().process_api(\n",
            "  File \"c:\\app\\python\\lib\\site-packages\\gradio\\blocks.py\", line 1945, in process_api\n",
            "    result = await self.call_function(\n",
            "  File \"c:\\app\\python\\lib\\site-packages\\gradio\\blocks.py\", line 1513, in call_function\n",
            "    prediction = await anyio.to_thread.run_sync(\n",
            "  File \"c:\\app\\python\\lib\\site-packages\\anyio\\to_thread.py\", line 49, in run_sync\n",
            "    return await get_async_backend().run_sync_in_worker_thread(\n",
            "  File \"c:\\app\\python\\lib\\site-packages\\anyio\\_backends\\_asyncio.py\", line 2103, in run_sync_in_worker_thread\n",
            "    return await future\n",
            "  File \"c:\\app\\python\\lib\\site-packages\\anyio\\_backends\\_asyncio.py\", line 823, in run\n",
            "    result = context.run(func, *args)\n",
            "  File \"c:\\app\\python\\lib\\site-packages\\gradio\\utils.py\", line 831, in wrapper\n",
            "    response = f(*args, **kwargs)\n",
            "  File \"C:\\Users\\shaik\\AppData\\Local\\Temp\\ipykernel_8832\\3670545991.py\", line 9, in block_img\n",
            "    return process_image(unet_model, image, video=False, source_age=source_age,\n",
            "NameError: name 'process_image' is not defined\n",
            "Traceback (most recent call last):\n",
            "  File \"c:\\app\\python\\lib\\site-packages\\gradio\\queueing.py\", line 521, in process_events\n",
            "    response = await route_utils.call_process_api(\n",
            "  File \"c:\\app\\python\\lib\\site-packages\\gradio\\route_utils.py\", line 276, in call_process_api\n",
            "    output = await app.get_blocks().process_api(\n",
            "  File \"c:\\app\\python\\lib\\site-packages\\gradio\\blocks.py\", line 1945, in process_api\n",
            "    result = await self.call_function(\n",
            "  File \"c:\\app\\python\\lib\\site-packages\\gradio\\blocks.py\", line 1513, in call_function\n",
            "    prediction = await anyio.to_thread.run_sync(\n",
            "  File \"c:\\app\\python\\lib\\site-packages\\anyio\\to_thread.py\", line 49, in run_sync\n",
            "    return await get_async_backend().run_sync_in_worker_thread(\n",
            "  File \"c:\\app\\python\\lib\\site-packages\\anyio\\_backends\\_asyncio.py\", line 2103, in run_sync_in_worker_thread\n",
            "    return await future\n",
            "  File \"c:\\app\\python\\lib\\site-packages\\anyio\\_backends\\_asyncio.py\", line 823, in run\n",
            "    result = context.run(func, *args)\n",
            "  File \"c:\\app\\python\\lib\\site-packages\\gradio\\utils.py\", line 831, in wrapper\n",
            "    response = f(*args, **kwargs)\n",
            "  File \"C:\\Users\\shaik\\AppData\\Local\\Temp\\ipykernel_8832\\3670545991.py\", line 9, in block_img\n",
            "    return process_image(unet_model, image, video=False, source_age=source_age,\n",
            "NameError: name 'process_image' is not defined\n",
            "Traceback (most recent call last):\n",
            "  File \"c:\\app\\python\\lib\\site-packages\\gradio\\queueing.py\", line 521, in process_events\n",
            "    response = await route_utils.call_process_api(\n",
            "  File \"c:\\app\\python\\lib\\site-packages\\gradio\\route_utils.py\", line 276, in call_process_api\n",
            "    output = await app.get_blocks().process_api(\n",
            "  File \"c:\\app\\python\\lib\\site-packages\\gradio\\blocks.py\", line 1945, in process_api\n",
            "    result = await self.call_function(\n",
            "  File \"c:\\app\\python\\lib\\site-packages\\gradio\\blocks.py\", line 1513, in call_function\n",
            "    prediction = await anyio.to_thread.run_sync(\n",
            "  File \"c:\\app\\python\\lib\\site-packages\\anyio\\to_thread.py\", line 49, in run_sync\n",
            "    return await get_async_backend().run_sync_in_worker_thread(\n",
            "  File \"c:\\app\\python\\lib\\site-packages\\anyio\\_backends\\_asyncio.py\", line 2103, in run_sync_in_worker_thread\n",
            "    return await future\n",
            "  File \"c:\\app\\python\\lib\\site-packages\\anyio\\_backends\\_asyncio.py\", line 823, in run\n",
            "    result = context.run(func, *args)\n",
            "  File \"c:\\app\\python\\lib\\site-packages\\gradio\\utils.py\", line 831, in wrapper\n",
            "    response = f(*args, **kwargs)\n",
            "  File \"C:\\Users\\shaik\\AppData\\Local\\Temp\\ipykernel_8832\\3670545991.py\", line 9, in block_img\n",
            "    return process_image(unet_model, image, video=False, source_age=source_age,\n",
            "NameError: name 'process_image' is not defined\n",
            "Traceback (most recent call last):\n",
            "  File \"c:\\app\\python\\lib\\site-packages\\gradio\\queueing.py\", line 521, in process_events\n",
            "    response = await route_utils.call_process_api(\n",
            "  File \"c:\\app\\python\\lib\\site-packages\\gradio\\route_utils.py\", line 276, in call_process_api\n",
            "    output = await app.get_blocks().process_api(\n",
            "  File \"c:\\app\\python\\lib\\site-packages\\gradio\\blocks.py\", line 1945, in process_api\n",
            "    result = await self.call_function(\n",
            "  File \"c:\\app\\python\\lib\\site-packages\\gradio\\blocks.py\", line 1513, in call_function\n",
            "    prediction = await anyio.to_thread.run_sync(\n",
            "  File \"c:\\app\\python\\lib\\site-packages\\anyio\\to_thread.py\", line 49, in run_sync\n",
            "    return await get_async_backend().run_sync_in_worker_thread(\n",
            "  File \"c:\\app\\python\\lib\\site-packages\\anyio\\_backends\\_asyncio.py\", line 2103, in run_sync_in_worker_thread\n",
            "    return await future\n",
            "  File \"c:\\app\\python\\lib\\site-packages\\anyio\\_backends\\_asyncio.py\", line 823, in run\n",
            "    result = context.run(func, *args)\n",
            "  File \"c:\\app\\python\\lib\\site-packages\\gradio\\utils.py\", line 831, in wrapper\n",
            "    response = f(*args, **kwargs)\n",
            "  File \"C:\\Users\\shaik\\AppData\\Local\\Temp\\ipykernel_8832\\3670545991.py\", line 9, in block_img\n",
            "    return process_image(unet_model, image, video=False, source_age=source_age,\n",
            "NameError: name 'process_image' is not defined\n",
            "Traceback (most recent call last):\n",
            "  File \"c:\\app\\python\\lib\\site-packages\\gradio\\queueing.py\", line 521, in process_events\n",
            "    response = await route_utils.call_process_api(\n",
            "  File \"c:\\app\\python\\lib\\site-packages\\gradio\\route_utils.py\", line 276, in call_process_api\n",
            "    output = await app.get_blocks().process_api(\n",
            "  File \"c:\\app\\python\\lib\\site-packages\\gradio\\blocks.py\", line 1945, in process_api\n",
            "    result = await self.call_function(\n",
            "  File \"c:\\app\\python\\lib\\site-packages\\gradio\\blocks.py\", line 1513, in call_function\n",
            "    prediction = await anyio.to_thread.run_sync(\n",
            "  File \"c:\\app\\python\\lib\\site-packages\\anyio\\to_thread.py\", line 49, in run_sync\n",
            "    return await get_async_backend().run_sync_in_worker_thread(\n",
            "  File \"c:\\app\\python\\lib\\site-packages\\anyio\\_backends\\_asyncio.py\", line 2103, in run_sync_in_worker_thread\n",
            "    return await future\n",
            "  File \"c:\\app\\python\\lib\\site-packages\\anyio\\_backends\\_asyncio.py\", line 823, in run\n",
            "    result = context.run(func, *args)\n",
            "  File \"c:\\app\\python\\lib\\site-packages\\gradio\\utils.py\", line 831, in wrapper\n",
            "    response = f(*args, **kwargs)\n",
            "  File \"C:\\Users\\shaik\\AppData\\Local\\Temp\\ipykernel_8832\\3670545991.py\", line 9, in block_img\n",
            "    return process_image(unet_model, image, video=False, source_age=source_age,\n",
            "NameError: name 'process_image' is not defined\n",
            "Traceback (most recent call last):\n",
            "  File \"c:\\app\\python\\lib\\site-packages\\gradio\\queueing.py\", line 521, in process_events\n",
            "    response = await route_utils.call_process_api(\n",
            "  File \"c:\\app\\python\\lib\\site-packages\\gradio\\route_utils.py\", line 276, in call_process_api\n",
            "    output = await app.get_blocks().process_api(\n",
            "  File \"c:\\app\\python\\lib\\site-packages\\gradio\\blocks.py\", line 1945, in process_api\n",
            "    result = await self.call_function(\n",
            "  File \"c:\\app\\python\\lib\\site-packages\\gradio\\blocks.py\", line 1513, in call_function\n",
            "    prediction = await anyio.to_thread.run_sync(\n",
            "  File \"c:\\app\\python\\lib\\site-packages\\anyio\\to_thread.py\", line 49, in run_sync\n",
            "    return await get_async_backend().run_sync_in_worker_thread(\n",
            "  File \"c:\\app\\python\\lib\\site-packages\\anyio\\_backends\\_asyncio.py\", line 2103, in run_sync_in_worker_thread\n",
            "    return await future\n",
            "  File \"c:\\app\\python\\lib\\site-packages\\anyio\\_backends\\_asyncio.py\", line 823, in run\n",
            "    result = context.run(func, *args)\n",
            "  File \"c:\\app\\python\\lib\\site-packages\\gradio\\utils.py\", line 831, in wrapper\n",
            "    response = f(*args, **kwargs)\n",
            "  File \"C:\\Users\\shaik\\AppData\\Local\\Temp\\ipykernel_8832\\3670545991.py\", line 9, in block_img\n",
            "    return process_image(unet_model, image, video=False, source_age=source_age,\n",
            "NameError: name 'process_image' is not defined\n",
            "Traceback (most recent call last):\n",
            "  File \"c:\\app\\python\\lib\\site-packages\\gradio\\queueing.py\", line 521, in process_events\n",
            "    response = await route_utils.call_process_api(\n",
            "  File \"c:\\app\\python\\lib\\site-packages\\gradio\\route_utils.py\", line 276, in call_process_api\n",
            "    output = await app.get_blocks().process_api(\n",
            "  File \"c:\\app\\python\\lib\\site-packages\\gradio\\blocks.py\", line 1945, in process_api\n",
            "    result = await self.call_function(\n",
            "  File \"c:\\app\\python\\lib\\site-packages\\gradio\\blocks.py\", line 1513, in call_function\n",
            "    prediction = await anyio.to_thread.run_sync(\n",
            "  File \"c:\\app\\python\\lib\\site-packages\\anyio\\to_thread.py\", line 49, in run_sync\n",
            "    return await get_async_backend().run_sync_in_worker_thread(\n",
            "  File \"c:\\app\\python\\lib\\site-packages\\anyio\\_backends\\_asyncio.py\", line 2103, in run_sync_in_worker_thread\n",
            "    return await future\n",
            "  File \"c:\\app\\python\\lib\\site-packages\\anyio\\_backends\\_asyncio.py\", line 823, in run\n",
            "    result = context.run(func, *args)\n",
            "  File \"c:\\app\\python\\lib\\site-packages\\gradio\\utils.py\", line 831, in wrapper\n",
            "    response = f(*args, **kwargs)\n",
            "  File \"C:\\Users\\shaik\\AppData\\Local\\Temp\\ipykernel_8832\\3670545991.py\", line 9, in block_img\n",
            "    return process_image(unet_model, image, video=False, source_age=source_age,\n",
            "NameError: name 'process_image' is not defined\n",
            "Traceback (most recent call last):\n",
            "  File \"c:\\app\\python\\lib\\site-packages\\gradio\\queueing.py\", line 521, in process_events\n",
            "    response = await route_utils.call_process_api(\n",
            "  File \"c:\\app\\python\\lib\\site-packages\\gradio\\route_utils.py\", line 276, in call_process_api\n",
            "    output = await app.get_blocks().process_api(\n",
            "  File \"c:\\app\\python\\lib\\site-packages\\gradio\\blocks.py\", line 1945, in process_api\n",
            "    result = await self.call_function(\n",
            "  File \"c:\\app\\python\\lib\\site-packages\\gradio\\blocks.py\", line 1513, in call_function\n",
            "    prediction = await anyio.to_thread.run_sync(\n",
            "  File \"c:\\app\\python\\lib\\site-packages\\anyio\\to_thread.py\", line 49, in run_sync\n",
            "    return await get_async_backend().run_sync_in_worker_thread(\n",
            "  File \"c:\\app\\python\\lib\\site-packages\\anyio\\_backends\\_asyncio.py\", line 2103, in run_sync_in_worker_thread\n",
            "    return await future\n",
            "  File \"c:\\app\\python\\lib\\site-packages\\anyio\\_backends\\_asyncio.py\", line 823, in run\n",
            "    result = context.run(func, *args)\n",
            "  File \"c:\\app\\python\\lib\\site-packages\\gradio\\utils.py\", line 831, in wrapper\n",
            "    response = f(*args, **kwargs)\n",
            "  File \"C:\\Users\\shaik\\AppData\\Local\\Temp\\ipykernel_8832\\3670545991.py\", line 9, in block_img\n",
            "    return process_image(unet_model, image, video=False, source_age=source_age,\n",
            "NameError: name 'process_image' is not defined\n",
            "Traceback (most recent call last):\n",
            "  File \"c:\\app\\python\\lib\\site-packages\\gradio\\queueing.py\", line 521, in process_events\n",
            "    response = await route_utils.call_process_api(\n",
            "  File \"c:\\app\\python\\lib\\site-packages\\gradio\\route_utils.py\", line 276, in call_process_api\n",
            "    output = await app.get_blocks().process_api(\n",
            "  File \"c:\\app\\python\\lib\\site-packages\\gradio\\blocks.py\", line 1945, in process_api\n",
            "    result = await self.call_function(\n",
            "  File \"c:\\app\\python\\lib\\site-packages\\gradio\\blocks.py\", line 1513, in call_function\n",
            "    prediction = await anyio.to_thread.run_sync(\n",
            "  File \"c:\\app\\python\\lib\\site-packages\\anyio\\to_thread.py\", line 49, in run_sync\n",
            "    return await get_async_backend().run_sync_in_worker_thread(\n",
            "  File \"c:\\app\\python\\lib\\site-packages\\anyio\\_backends\\_asyncio.py\", line 2103, in run_sync_in_worker_thread\n",
            "    return await future\n",
            "  File \"c:\\app\\python\\lib\\site-packages\\anyio\\_backends\\_asyncio.py\", line 823, in run\n",
            "    result = context.run(func, *args)\n",
            "  File \"c:\\app\\python\\lib\\site-packages\\gradio\\utils.py\", line 831, in wrapper\n",
            "    response = f(*args, **kwargs)\n",
            "  File \"C:\\Users\\shaik\\AppData\\Local\\Temp\\ipykernel_8832\\3670545991.py\", line 9, in block_img\n",
            "    return process_image(unet_model, image, video=False, source_age=source_age,\n",
            "NameError: name 'process_image' is not defined\n",
            "Traceback (most recent call last):\n",
            "  File \"c:\\app\\python\\lib\\site-packages\\gradio\\queueing.py\", line 521, in process_events\n",
            "    response = await route_utils.call_process_api(\n",
            "  File \"c:\\app\\python\\lib\\site-packages\\gradio\\route_utils.py\", line 276, in call_process_api\n",
            "    output = await app.get_blocks().process_api(\n",
            "  File \"c:\\app\\python\\lib\\site-packages\\gradio\\blocks.py\", line 1945, in process_api\n",
            "    result = await self.call_function(\n",
            "  File \"c:\\app\\python\\lib\\site-packages\\gradio\\blocks.py\", line 1513, in call_function\n",
            "    prediction = await anyio.to_thread.run_sync(\n",
            "  File \"c:\\app\\python\\lib\\site-packages\\anyio\\to_thread.py\", line 49, in run_sync\n",
            "    return await get_async_backend().run_sync_in_worker_thread(\n",
            "  File \"c:\\app\\python\\lib\\site-packages\\anyio\\_backends\\_asyncio.py\", line 2103, in run_sync_in_worker_thread\n",
            "    return await future\n",
            "  File \"c:\\app\\python\\lib\\site-packages\\anyio\\_backends\\_asyncio.py\", line 823, in run\n",
            "    result = context.run(func, *args)\n",
            "  File \"c:\\app\\python\\lib\\site-packages\\gradio\\utils.py\", line 831, in wrapper\n",
            "    response = f(*args, **kwargs)\n",
            "  File \"C:\\Users\\shaik\\AppData\\Local\\Temp\\ipykernel_8832\\3670545991.py\", line 9, in block_img\n",
            "    return process_image(unet_model, image, video=False, source_age=source_age,\n",
            "NameError: name 'process_image' is not defined\n",
            "Traceback (most recent call last):\n",
            "  File \"c:\\app\\python\\lib\\site-packages\\gradio\\queueing.py\", line 521, in process_events\n",
            "    response = await route_utils.call_process_api(\n",
            "  File \"c:\\app\\python\\lib\\site-packages\\gradio\\route_utils.py\", line 276, in call_process_api\n",
            "    output = await app.get_blocks().process_api(\n",
            "  File \"c:\\app\\python\\lib\\site-packages\\gradio\\blocks.py\", line 1945, in process_api\n",
            "    result = await self.call_function(\n",
            "  File \"c:\\app\\python\\lib\\site-packages\\gradio\\blocks.py\", line 1513, in call_function\n",
            "    prediction = await anyio.to_thread.run_sync(\n",
            "  File \"c:\\app\\python\\lib\\site-packages\\anyio\\to_thread.py\", line 49, in run_sync\n",
            "    return await get_async_backend().run_sync_in_worker_thread(\n",
            "  File \"c:\\app\\python\\lib\\site-packages\\anyio\\_backends\\_asyncio.py\", line 2103, in run_sync_in_worker_thread\n",
            "    return await future\n",
            "  File \"c:\\app\\python\\lib\\site-packages\\anyio\\_backends\\_asyncio.py\", line 823, in run\n",
            "    result = context.run(func, *args)\n",
            "  File \"c:\\app\\python\\lib\\site-packages\\gradio\\utils.py\", line 831, in wrapper\n",
            "    response = f(*args, **kwargs)\n",
            "  File \"C:\\Users\\shaik\\AppData\\Local\\Temp\\ipykernel_8832\\3670545991.py\", line 9, in block_img\n",
            "    return process_image(unet_model, image, video=False, source_age=source_age,\n",
            "NameError: name 'process_image' is not defined\n",
            "Traceback (most recent call last):\n",
            "  File \"c:\\app\\python\\lib\\site-packages\\gradio\\queueing.py\", line 521, in process_events\n",
            "    response = await route_utils.call_process_api(\n",
            "  File \"c:\\app\\python\\lib\\site-packages\\gradio\\route_utils.py\", line 276, in call_process_api\n",
            "    output = await app.get_blocks().process_api(\n",
            "  File \"c:\\app\\python\\lib\\site-packages\\gradio\\blocks.py\", line 1945, in process_api\n",
            "    result = await self.call_function(\n",
            "  File \"c:\\app\\python\\lib\\site-packages\\gradio\\blocks.py\", line 1513, in call_function\n",
            "    prediction = await anyio.to_thread.run_sync(\n",
            "  File \"c:\\app\\python\\lib\\site-packages\\anyio\\to_thread.py\", line 49, in run_sync\n",
            "    return await get_async_backend().run_sync_in_worker_thread(\n",
            "  File \"c:\\app\\python\\lib\\site-packages\\anyio\\_backends\\_asyncio.py\", line 2103, in run_sync_in_worker_thread\n",
            "    return await future\n",
            "  File \"c:\\app\\python\\lib\\site-packages\\anyio\\_backends\\_asyncio.py\", line 823, in run\n",
            "    result = context.run(func, *args)\n",
            "  File \"c:\\app\\python\\lib\\site-packages\\gradio\\utils.py\", line 831, in wrapper\n",
            "    response = f(*args, **kwargs)\n",
            "  File \"C:\\Users\\shaik\\AppData\\Local\\Temp\\ipykernel_8832\\3670545991.py\", line 9, in block_img\n",
            "    return process_image(unet_model, image, video=False, source_age=source_age,\n",
            "NameError: name 'process_image' is not defined\n",
            "Traceback (most recent call last):\n",
            "  File \"c:\\app\\python\\lib\\site-packages\\gradio\\queueing.py\", line 521, in process_events\n",
            "    response = await route_utils.call_process_api(\n",
            "  File \"c:\\app\\python\\lib\\site-packages\\gradio\\route_utils.py\", line 276, in call_process_api\n",
            "    output = await app.get_blocks().process_api(\n",
            "  File \"c:\\app\\python\\lib\\site-packages\\gradio\\blocks.py\", line 1945, in process_api\n",
            "    result = await self.call_function(\n",
            "  File \"c:\\app\\python\\lib\\site-packages\\gradio\\blocks.py\", line 1513, in call_function\n",
            "    prediction = await anyio.to_thread.run_sync(\n",
            "  File \"c:\\app\\python\\lib\\site-packages\\anyio\\to_thread.py\", line 49, in run_sync\n",
            "    return await get_async_backend().run_sync_in_worker_thread(\n",
            "  File \"c:\\app\\python\\lib\\site-packages\\anyio\\_backends\\_asyncio.py\", line 2103, in run_sync_in_worker_thread\n",
            "    return await future\n",
            "  File \"c:\\app\\python\\lib\\site-packages\\anyio\\_backends\\_asyncio.py\", line 823, in run\n",
            "    result = context.run(func, *args)\n",
            "  File \"c:\\app\\python\\lib\\site-packages\\gradio\\utils.py\", line 831, in wrapper\n",
            "    response = f(*args, **kwargs)\n",
            "  File \"C:\\Users\\shaik\\AppData\\Local\\Temp\\ipykernel_8832\\3670545991.py\", line 9, in block_img\n",
            "    return process_image(unet_model, image, video=False, source_age=source_age,\n",
            "NameError: name 'process_image' is not defined\n",
            "Traceback (most recent call last):\n",
            "  File \"c:\\app\\python\\lib\\site-packages\\gradio\\queueing.py\", line 521, in process_events\n",
            "    response = await route_utils.call_process_api(\n",
            "  File \"c:\\app\\python\\lib\\site-packages\\gradio\\route_utils.py\", line 276, in call_process_api\n",
            "    output = await app.get_blocks().process_api(\n",
            "  File \"c:\\app\\python\\lib\\site-packages\\gradio\\blocks.py\", line 1945, in process_api\n",
            "    result = await self.call_function(\n",
            "  File \"c:\\app\\python\\lib\\site-packages\\gradio\\blocks.py\", line 1513, in call_function\n",
            "    prediction = await anyio.to_thread.run_sync(\n",
            "  File \"c:\\app\\python\\lib\\site-packages\\anyio\\to_thread.py\", line 49, in run_sync\n",
            "    return await get_async_backend().run_sync_in_worker_thread(\n",
            "  File \"c:\\app\\python\\lib\\site-packages\\anyio\\_backends\\_asyncio.py\", line 2103, in run_sync_in_worker_thread\n",
            "    return await future\n",
            "  File \"c:\\app\\python\\lib\\site-packages\\anyio\\_backends\\_asyncio.py\", line 823, in run\n",
            "    result = context.run(func, *args)\n",
            "  File \"c:\\app\\python\\lib\\site-packages\\gradio\\utils.py\", line 831, in wrapper\n",
            "    response = f(*args, **kwargs)\n",
            "  File \"C:\\Users\\shaik\\AppData\\Local\\Temp\\ipykernel_8832\\3670545991.py\", line 9, in block_img\n",
            "    return process_image(unet_model, image, video=False, source_age=source_age,\n",
            "NameError: name 'process_image' is not defined\n"
          ]
        }
      ],
      "source": [
        "demo.launch()"
      ]
    }
  ],
  "metadata": {
    "accelerator": "GPU",
    "colab": {
      "gpuType": "T4",
      "provenance": []
    },
    "kernelspec": {
      "display_name": "Python 3",
      "language": "python",
      "name": "python3"
    },
    "language_info": {
      "codemirror_mode": {
        "name": "ipython",
        "version": 3
      },
      "file_extension": ".py",
      "mimetype": "text/x-python",
      "name": "python",
      "nbconvert_exporter": "python",
      "pygments_lexer": "ipython3",
      "version": "3.9.2 (tags/v3.9.2:1a79785, Feb 19 2021, 13:44:55) [MSC v.1928 64 bit (AMD64)]"
    },
    "vscode": {
      "interpreter": {
        "hash": "a5c3828d8202d86c47f2b586ca8c6b8e8213f8003a1787590a796b91f30940f1"
      }
    }
  },
  "nbformat": 4,
  "nbformat_minor": 0
}
